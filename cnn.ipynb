{
 "cells": [
  {
   "cell_type": "code",
   "execution_count": 1,
   "metadata": {},
   "outputs": [],
   "source": [
    "import os\n",
    "import cv2\n",
    "import random\n",
    "import shutil\n",
    "import time\n",
    "import matplotlib\n",
    "import glob\n",
    "import operator\n",
    "import psutil\n",
    "import numpy as np\n",
    "import math\n",
    "import matplotlib.pyplot as plt\n",
    "import tensorflow as tf\n",
    "from tensorflow import keras\n",
    "from tensorflow.keras.models import Sequential\n",
    "from tensorflow.keras.layers import Dense, Activation\n",
    "from tensorflow.keras.preprocessing.image import ImageDataGenerator\n",
    "from tensorflow.keras.optimizers import Adam\n",
    "from tensorflow.keras.preprocessing import image\n",
    "from tensorflow.keras.models import Model\n",
    "from tensorflow.keras.models import load_model\n",
    "from tensorflow.keras.layers import Dense, Dropout, GlobalAveragePooling2D, GlobalMaxPooling2D, BatchNormalization, Conv2D, MaxPooling2D, Flatten\n",
    "from shutil import copyfile\n",
    "import pandas as pd\n",
    "import PIL\n",
    "from mlxtend.plotting import plot_confusion_matrix"
   ]
  },
  {
   "cell_type": "code",
   "execution_count": 2,
   "metadata": {},
   "outputs": [
    {
     "data": {
      "text/plain": [
       "[PhysicalDevice(name='/physical_device:CPU:0', device_type='CPU'),\n",
       " PhysicalDevice(name='/physical_device:XLA_CPU:0', device_type='XLA_CPU'),\n",
       " PhysicalDevice(name='/physical_device:XLA_GPU:0', device_type='XLA_GPU'),\n",
       " PhysicalDevice(name='/physical_device:GPU:0', device_type='GPU')]"
      ]
     },
     "execution_count": 2,
     "metadata": {},
     "output_type": "execute_result"
    }
   ],
   "source": [
    "tf.config.experimental.list_physical_devices()"
   ]
  },
  {
   "cell_type": "code",
   "execution_count": 3,
   "metadata": {},
   "outputs": [],
   "source": [
    "physical_devices = tf.config.experimental.list_physical_devices('GPU')\n",
    "tf.config.experimental.set_memory_growth(physical_devices[0], True)"
   ]
  },
  {
   "cell_type": "code",
   "execution_count": 4,
   "metadata": {},
   "outputs": [
    {
     "name": "stdout",
     "output_type": "stream",
     "text": [
      "Classify Train Dir: /home/rajarshi/Documents/DATASETS/Health/COVID/covid-chestxray-dataset-master/DATASET\n",
      "/home/rajarshi/Documents/DATASETS/Health/COVID/covid-chestxray-dataset-master/DATASET/classify train/training\n",
      "/home/rajarshi/Documents/DATASETS/Health/COVID/covid-chestxray-dataset-master/DATASET/classify train/validation\n",
      "/home/rajarshi/Documents/DATASETS/Health/COVID/covid-chestxray-dataset-master/DATASET/classify train/testing\n"
     ]
    }
   ],
   "source": [
    "classify_train_dir = str(input(\"Classify Train Dir: \"))\n",
    "classify_train = os.path.join(classify_train_dir, 'classify train')\n",
    "classify_train_lis = []\n",
    "for file in os.listdir(classify_train):\n",
    "    print(os.path.join(classify_train, file))\n",
    "    classify_train_lis.append(os.path.join(classify_train, file))\n",
    "    \n",
    "TRAINING_DIR = classify_train_lis[0]\n",
    "VALIDATION_DIR = classify_train_lis[1]\n",
    "TESTING_DIR = classify_train_lis[2]"
   ]
  },
  {
   "cell_type": "code",
   "execution_count": 5,
   "metadata": {},
   "outputs": [
    {
     "name": "stdout",
     "output_type": "stream",
     "text": [
      "Augmenting data will make the model robust but it'll take more time to train. \n",
      "Do you want to augment the data?(Y/N) n\n"
     ]
    }
   ],
   "source": [
    "augmentation = []\n",
    "augment = input(str(\"Augmenting data will make the model robust but it'll take more time to train. \\nDo you want to augment the data?(Y/N) \"))\n",
    "\n",
    "if augment.upper() == 'Y':\n",
    "    datagen = ImageDataGenerator(\n",
    "        rescale=1/ 255,\n",
    "#         rotation_range=40,\n",
    "#         width_shift_range=0.2,\n",
    "#         height_shift_range=0.2,\n",
    "#         shear_range=0.2,\n",
    "#         zoom_range=0.2,\n",
    "        horizontal_flip=True,\n",
    "        fill_mode='nearest')\n",
    "    augmentation.append('Data is Augmented')\n",
    "\n",
    "elif augment.upper() == 'N':\n",
    "    datagen = ImageDataGenerator(\n",
    "        rescale=1/ 255)\n",
    "    augmentation.append('Data is not Augmented')\n",
    "\n"
   ]
  },
  {
   "cell_type": "code",
   "execution_count": 6,
   "metadata": {},
   "outputs": [
    {
     "name": "stdout",
     "output_type": "stream",
     "text": [
      "Enter the initial learning rate: 0.0001\n",
      "Enter the maximum number of epochs: 100\n",
      "Enter batch size: 10\n"
     ]
    }
   ],
   "source": [
    "learning_rate = float(input(\"Enter the initial learning rate: \"))\n",
    "epoch = int(input(\"Enter the maximum number of epochs: \"))\n",
    "batch_size = int(input(\"Enter batch size: \"))"
   ]
  },
  {
   "cell_type": "code",
   "execution_count": 7,
   "metadata": {},
   "outputs": [
    {
     "name": "stdout",
     "output_type": "stream",
     "text": [
      "Enter name of the characteristics folder: 2\n"
     ]
    }
   ],
   "source": [
    "char_name = str(input(\"Enter name of the characteristics folder: \"))\n",
    "\n",
    "char = os.path.join('/home/rajarshi/Documents/DATASETS/Health/COVID/covid-chestxray-dataset-master/DATASET', char_name)\n",
    "\n",
    "if not os.path.exists(char):\n",
    "    os.mkdir(char)\n",
    "else:\n",
    "    shutil.rmtree(char)\n",
    "    os.mkdir(char)"
   ]
  },
  {
   "cell_type": "code",
   "execution_count": 8,
   "metadata": {},
   "outputs": [],
   "source": [
    "def lr_schedule(epoch):\n",
    "    return learning_rate * (0.1 ** int(epoch / 10))\n",
    "    \n",
    "best_model_address = os.path.join(char, 'best_model.h5')"
   ]
  },
  {
   "cell_type": "code",
   "execution_count": 9,
   "metadata": {},
   "outputs": [
    {
     "name": "stdout",
     "output_type": "stream",
     "text": [
      "Press 1 to monitor Validation Accuracy\n",
      "Press 2 to monitor Validation Loss\n",
      "Press 3 to monitor Training Accuracy\n",
      "Press 4 to monitor Training Loss\n",
      "4\n",
      "Enter number of epochs that will produce monitored quantity with no improvement after which training will be stopped: 10\n",
      "\n",
      "MONITORING TRAINING LOSS..........\n",
      "\n",
      "WARNING:tensorflow:`period` argument is deprecated. Please use `save_freq` to specify the frequency in number of batches seen.\n",
      "\n",
      "Training will stop if Validation Accuracy doesn't show any improvements for 10 epcohs\n",
      "\n"
     ]
    }
   ],
   "source": [
    "monitor = int(input(\"Press 1 to monitor Validation Accuracy\\nPress 2 to monitor Validation Loss\\nPress 3 to monitor Training Accuracy\\nPress 4 to monitor Training Loss\\n\"))\n",
    "patience = int(input('Enter number of epochs that will produce monitored quantity with no improvement after which training will be stopped: '))\n",
    "\n",
    "\n",
    "if monitor == 1:\n",
    "    metric = 'val_accuracy'\n",
    "    mode = 'max'\n",
    "    print(\"\\nMONITORING VALIDATION ACCURACY..........\\n\")\n",
    "\n",
    "elif monitor == 2:\n",
    "    metric = 'val_loss'\n",
    "    mode = 'min'\n",
    "    print(\"\\nMONITORING VALIDATION LOSS..........\\n\")\n",
    "\n",
    "elif monitor == 3:\n",
    "    metric = 'accuracy'\n",
    "    mode = 'max'\n",
    "    print(\"\\nMONITORING TRAINING ACCURACY..........\\n\")\n",
    "\n",
    "elif monitor == 4:\n",
    "    metric = 'loss'\n",
    "    mode = 'min'\n",
    "    print(\"\\nMONITORING TRAINING LOSS..........\\n\")\n",
    "\n",
    "callback = [keras.callbacks.LearningRateScheduler(lr_schedule, verbose = 1),\n",
    "            keras.callbacks.EarlyStopping(monitor = metric, min_delta = 0.001, patience = patience, verbose=1, mode = mode, restore_best_weights = True),\n",
    "            keras.callbacks.ModelCheckpoint(best_model_address, monitor = metric, verbose=1, save_best_only=True, save_weights_only=False, mode = mode , period=1)]\n",
    "\n",
    "print(\"\\nTraining will stop if Validation Accuracy doesn't show any improvements for \" + str(patience) + \" epcohs\\n\")"
   ]
  },
  {
   "cell_type": "code",
   "execution_count": 10,
   "metadata": {},
   "outputs": [],
   "source": [
    "def Custom_Model():\n",
    "    print(\"\\nTRAINING ON A COMPLEX CUSTOM MODEL:-\")\n",
    "\n",
    "    model = keras.models.Sequential()\n",
    "    for l in range(layer):\n",
    "        l += 1\n",
    "        m = (2**l)//2\n",
    "        for c in range(conv_layer):\n",
    "            model.add(Conv2D(conv*m, (conv_size, conv_size), padding = 'same', input_shape = dim, activation = activation))\n",
    "        model.add(MaxPooling2D(pool_size = (2, 2)))\n",
    "    model.add(Flatten())\n",
    "    model.add(Dense(dense, activation=activation))\n",
    "    model.add(Dropout(dropout))\n",
    "    model.add(Dense(output_layer, activation=output_activation))\n",
    "    return model"
   ]
  },
  {
   "cell_type": "code",
   "execution_count": 11,
   "metadata": {},
   "outputs": [
    {
     "name": "stdout",
     "output_type": "stream",
     "text": [
      "This is a Binary Classification\n"
     ]
    }
   ],
   "source": [
    "if len(os.listdir(TRAINING_DIR)) > 2:\n",
    "    print(\"This is a \" + str(class_no) + \"-Class Classification\")\n",
    "    output_activation = 'softmax'\n",
    "    losses = 'categorical_crossentropy'\n",
    "    class_mode = 'categorical'\n",
    "    output_layer = class_no\n",
    "else:\n",
    "    print(\"This is a Binary Classification\")\n",
    "    output_activation = 'sigmoid'\n",
    "    losses = 'binary_crossentropy'\n",
    "    class_mode = 'binary'\n",
    "    output_layer = 1"
   ]
  },
  {
   "cell_type": "code",
   "execution_count": 12,
   "metadata": {},
   "outputs": [],
   "source": [
    "optimizer = keras.optimizers.Adam(learning_rate = learning_rate, beta_1 = 0.9, beta_2 = 0.999, amsgrad = False)"
   ]
  },
  {
   "cell_type": "code",
   "execution_count": 13,
   "metadata": {},
   "outputs": [
    {
     "name": "stdout",
     "output_type": "stream",
     "text": [
      "Found 288 images belonging to 2 classes.\n",
      "Found 36 images belonging to 2 classes.\n",
      "Found 36 images belonging to 2 classes.\n"
     ]
    }
   ],
   "source": [
    "train_datagen = datagen\n",
    "train_generator = train_datagen.flow_from_directory(TRAINING_DIR,\n",
    "                                                    batch_size = batch_size,\n",
    "                                                    class_mode = class_mode,\n",
    "                                                    target_size = (224,224),\n",
    "                                                    shuffle=True)\n",
    "\n",
    "validation_datagen = ImageDataGenerator(rescale=1.0/255.)\n",
    "validation_generator = validation_datagen.flow_from_directory(VALIDATION_DIR,\n",
    "                                                              batch_size = batch_size,\n",
    "                                                              class_mode = class_mode,\n",
    "                                                              target_size = (224,224),\n",
    "                                                              shuffle=True)\n",
    "\n",
    "test_datagen = ImageDataGenerator(rescale=1.0/255.)\n",
    "test_generator = test_datagen.flow_from_directory(TESTING_DIR,\n",
    "                                                  batch_size = batch_size,\n",
    "                                                  class_mode = class_mode,\n",
    "                                                  target_size = (224,224),\n",
    "                                                  shuffle=True)"
   ]
  },
  {
   "cell_type": "code",
   "execution_count": 14,
   "metadata": {},
   "outputs": [
    {
     "name": "stdout",
     "output_type": "stream",
     "text": [
      "Enter the no. of neurons in dense layer: 256\n",
      "Enter the activation function: relu\n",
      "Enter the dropout percentage: 50\n",
      "Enter number of layers you want to apply: 5\n",
      "Enter number of convolution layers you want to apply: 2\n",
      "Enter the no. of filters in the 1st convolution layer: 32\n",
      "Enter the size of filters: 3\n",
      "Image Dimension(H or W): 224\n"
     ]
    }
   ],
   "source": [
    "dense = int(input(\"Enter the no. of neurons in dense layer: \"))\n",
    "activation = str(input(\"Enter the activation function: \"))\n",
    "dropout = float(input(\"Enter the dropout percentage: \"))\n",
    "dropout = dropout/100\n",
    "\n",
    "layer = int(input(\"Enter number of layers you want to apply: \"))\n",
    "conv_layer = int(input(\"Enter number of convolution layers you want to apply: \"))\n",
    "conv = int(input(\"Enter the no. of filters in the 1st convolution layer: \"))\n",
    "conv_size = int(input(\"Enter the size of filters: \"))\n",
    "h = int(input(\"Image Dimension(H or W): \"))\n",
    "w = h\n",
    "dim = [h,w,3]"
   ]
  },
  {
   "cell_type": "code",
   "execution_count": 15,
   "metadata": {},
   "outputs": [
    {
     "name": "stdout",
     "output_type": "stream",
     "text": [
      "\n",
      "TRAINING ON A COMPLEX CUSTOM MODEL:-\n",
      "Model: \"sequential\"\n",
      "_________________________________________________________________\n",
      "Layer (type)                 Output Shape              Param #   \n",
      "=================================================================\n",
      "conv2d (Conv2D)              (None, 224, 224, 32)      896       \n",
      "_________________________________________________________________\n",
      "conv2d_1 (Conv2D)            (None, 224, 224, 32)      9248      \n",
      "_________________________________________________________________\n",
      "max_pooling2d (MaxPooling2D) (None, 112, 112, 32)      0         \n",
      "_________________________________________________________________\n",
      "conv2d_2 (Conv2D)            (None, 112, 112, 64)      18496     \n",
      "_________________________________________________________________\n",
      "conv2d_3 (Conv2D)            (None, 112, 112, 64)      36928     \n",
      "_________________________________________________________________\n",
      "max_pooling2d_1 (MaxPooling2 (None, 56, 56, 64)        0         \n",
      "_________________________________________________________________\n",
      "conv2d_4 (Conv2D)            (None, 56, 56, 128)       73856     \n",
      "_________________________________________________________________\n",
      "conv2d_5 (Conv2D)            (None, 56, 56, 128)       147584    \n",
      "_________________________________________________________________\n",
      "max_pooling2d_2 (MaxPooling2 (None, 28, 28, 128)       0         \n",
      "_________________________________________________________________\n",
      "conv2d_6 (Conv2D)            (None, 28, 28, 256)       295168    \n",
      "_________________________________________________________________\n",
      "conv2d_7 (Conv2D)            (None, 28, 28, 256)       590080    \n",
      "_________________________________________________________________\n",
      "max_pooling2d_3 (MaxPooling2 (None, 14, 14, 256)       0         \n",
      "_________________________________________________________________\n",
      "conv2d_8 (Conv2D)            (None, 14, 14, 512)       1180160   \n",
      "_________________________________________________________________\n",
      "conv2d_9 (Conv2D)            (None, 14, 14, 512)       2359808   \n",
      "_________________________________________________________________\n",
      "max_pooling2d_4 (MaxPooling2 (None, 7, 7, 512)         0         \n",
      "_________________________________________________________________\n",
      "flatten (Flatten)            (None, 25088)             0         \n",
      "_________________________________________________________________\n",
      "dense (Dense)                (None, 256)               6422784   \n",
      "_________________________________________________________________\n",
      "dropout (Dropout)            (None, 256)               0         \n",
      "_________________________________________________________________\n",
      "dense_1 (Dense)              (None, 1)                 257       \n",
      "=================================================================\n",
      "Total params: 11,135,265\n",
      "Trainable params: 11,135,265\n",
      "Non-trainable params: 0\n",
      "_________________________________________________________________\n"
     ]
    }
   ],
   "source": [
    "model = Custom_Model()\n",
    "model.compile(optimizer = optimizer, loss = losses, metrics = ['accuracy', \n",
    "                                                               tf.keras.metrics.Precision(), \n",
    "                                                               tf.keras.metrics.Recall(), \n",
    "                                                               tf.keras.metrics.TruePositives(), \n",
    "                                                               tf.keras.metrics.TrueNegatives(), \n",
    "                                                               tf.keras.metrics.FalsePositives(),\n",
    "                                                               tf.keras.metrics.FalseNegatives()])\n",
    "\n",
    "\n",
    "model.summary()"
   ]
  },
  {
   "cell_type": "code",
   "execution_count": 16,
   "metadata": {},
   "outputs": [
    {
     "name": "stdout",
     "output_type": "stream",
     "text": [
      "WARNING:tensorflow:From <ipython-input-16-12757c0110cb>:3: Model.fit_generator (from tensorflow.python.keras.engine.training) is deprecated and will be removed in a future version.\n",
      "Instructions for updating:\n",
      "Please use Model.fit, which supports generators.\n",
      "\n",
      "Epoch 00001: LearningRateScheduler reducing learning rate to 0.0001.\n",
      "Epoch 1/100\n",
      "29/29 [==============================] - ETA: 0s - loss: 0.6983 - accuracy: 0.5556 - precision: 0.5317 - recall: 0.9306 - true_positives: 134.0000 - true_negatives: 26.0000 - false_positives: 118.0000 - false_negatives: 10.0000\n",
      "Epoch 00001: loss improved from inf to 0.69828, saving model to /home/rajarshi/Documents/DATASETS/Health/COVID/covid-chestxray-dataset-master/DATASET/2/best_model.h5\n",
      "29/29 [==============================] - 3s 103ms/step - loss: 0.6983 - accuracy: 0.5556 - precision: 0.5317 - recall: 0.9306 - true_positives: 134.0000 - true_negatives: 26.0000 - false_positives: 118.0000 - false_negatives: 10.0000 - val_loss: 0.6724 - val_accuracy: 0.5000 - val_precision: 0.0000e+00 - val_recall: 0.0000e+00 - val_true_positives: 0.0000e+00 - val_true_negatives: 18.0000 - val_false_positives: 0.0000e+00 - val_false_negatives: 18.0000\n",
      "\n",
      "Epoch 00002: LearningRateScheduler reducing learning rate to 0.0001.\n",
      "Epoch 2/100\n",
      "29/29 [==============================] - ETA: 0s - loss: 0.5042 - accuracy: 0.7708 - precision: 0.9239 - recall: 0.5903 - true_positives: 85.0000 - true_negatives: 137.0000 - false_positives: 7.0000 - false_negatives: 59.0000\n",
      "Epoch 00002: loss improved from 0.69828 to 0.50417, saving model to /home/rajarshi/Documents/DATASETS/Health/COVID/covid-chestxray-dataset-master/DATASET/2/best_model.h5\n",
      "29/29 [==============================] - 2s 74ms/step - loss: 0.5042 - accuracy: 0.7708 - precision: 0.9239 - recall: 0.5903 - true_positives: 85.0000 - true_negatives: 137.0000 - false_positives: 7.0000 - false_negatives: 59.0000 - val_loss: 0.4711 - val_accuracy: 0.8056 - val_precision: 0.7200 - val_recall: 1.0000 - val_true_positives: 18.0000 - val_true_negatives: 11.0000 - val_false_positives: 7.0000 - val_false_negatives: 0.0000e+00\n",
      "\n",
      "Epoch 00003: LearningRateScheduler reducing learning rate to 0.0001.\n",
      "Epoch 3/100\n",
      "29/29 [==============================] - ETA: 0s - loss: 0.3185 - accuracy: 0.8819 - precision: 0.8873 - recall: 0.8750 - true_positives: 126.0000 - true_negatives: 128.0000 - false_positives: 16.0000 - false_negatives: 18.0000\n",
      "Epoch 00003: loss improved from 0.50417 to 0.31853, saving model to /home/rajarshi/Documents/DATASETS/Health/COVID/covid-chestxray-dataset-master/DATASET/2/best_model.h5\n",
      "29/29 [==============================] - 4s 128ms/step - loss: 0.3185 - accuracy: 0.8819 - precision: 0.8873 - recall: 0.8750 - true_positives: 126.0000 - true_negatives: 128.0000 - false_positives: 16.0000 - false_negatives: 18.0000 - val_loss: 0.4525 - val_accuracy: 0.8056 - val_precision: 0.7200 - val_recall: 1.0000 - val_true_positives: 18.0000 - val_true_negatives: 11.0000 - val_false_positives: 7.0000 - val_false_negatives: 0.0000e+00\n",
      "\n",
      "Epoch 00004: LearningRateScheduler reducing learning rate to 0.0001.\n",
      "Epoch 4/100\n",
      "29/29 [==============================] - ETA: 0s - loss: 0.2157 - accuracy: 0.9271 - precision: 0.9424 - recall: 0.9097 - true_positives: 131.0000 - true_negatives: 136.0000 - false_positives: 8.0000 - false_negatives: 13.0000\n",
      "Epoch 00004: loss improved from 0.31853 to 0.21569, saving model to /home/rajarshi/Documents/DATASETS/Health/COVID/covid-chestxray-dataset-master/DATASET/2/best_model.h5\n",
      "29/29 [==============================] - 4s 125ms/step - loss: 0.2157 - accuracy: 0.9271 - precision: 0.9424 - recall: 0.9097 - true_positives: 131.0000 - true_negatives: 136.0000 - false_positives: 8.0000 - false_negatives: 13.0000 - val_loss: 0.4834 - val_accuracy: 0.8333 - val_precision: 0.7500 - val_recall: 1.0000 - val_true_positives: 18.0000 - val_true_negatives: 12.0000 - val_false_positives: 6.0000 - val_false_negatives: 0.0000e+00\n",
      "\n",
      "Epoch 00005: LearningRateScheduler reducing learning rate to 0.0001.\n",
      "Epoch 5/100\n",
      "29/29 [==============================] - ETA: 0s - loss: 0.1816 - accuracy: 0.9410 - precision: 0.9568 - recall: 0.9236 - true_positives: 133.0000 - true_negatives: 138.0000 - false_positives: 6.0000 - false_negatives: 11.0000\n",
      "Epoch 00005: loss improved from 0.21569 to 0.18160, saving model to /home/rajarshi/Documents/DATASETS/Health/COVID/covid-chestxray-dataset-master/DATASET/2/best_model.h5\n",
      "29/29 [==============================] - 4s 122ms/step - loss: 0.1816 - accuracy: 0.9410 - precision: 0.9568 - recall: 0.9236 - true_positives: 133.0000 - true_negatives: 138.0000 - false_positives: 6.0000 - false_negatives: 11.0000 - val_loss: 0.3261 - val_accuracy: 0.8333 - val_precision: 0.7500 - val_recall: 1.0000 - val_true_positives: 18.0000 - val_true_negatives: 12.0000 - val_false_positives: 6.0000 - val_false_negatives: 0.0000e+00\n",
      "\n",
      "Epoch 00006: LearningRateScheduler reducing learning rate to 0.0001.\n",
      "Epoch 6/100\n",
      "29/29 [==============================] - ETA: 0s - loss: 0.1409 - accuracy: 0.9514 - precision: 0.9643 - recall: 0.9375 - true_positives: 135.0000 - true_negatives: 139.0000 - false_positives: 5.0000 - false_negatives: 9.0000\n",
      "Epoch 00006: loss improved from 0.18160 to 0.14092, saving model to /home/rajarshi/Documents/DATASETS/Health/COVID/covid-chestxray-dataset-master/DATASET/2/best_model.h5\n",
      "29/29 [==============================] - 2s 76ms/step - loss: 0.1409 - accuracy: 0.9514 - precision: 0.9643 - recall: 0.9375 - true_positives: 135.0000 - true_negatives: 139.0000 - false_positives: 5.0000 - false_negatives: 9.0000 - val_loss: 0.4265 - val_accuracy: 0.8889 - val_precision: 0.8182 - val_recall: 1.0000 - val_true_positives: 18.0000 - val_true_negatives: 14.0000 - val_false_positives: 4.0000 - val_false_negatives: 0.0000e+00\n",
      "\n",
      "Epoch 00007: LearningRateScheduler reducing learning rate to 0.0001.\n",
      "Epoch 7/100\n",
      "29/29 [==============================] - ETA: 0s - loss: 0.1215 - accuracy: 0.9618 - precision: 0.9784 - recall: 0.9444 - true_positives: 136.0000 - true_negatives: 141.0000 - false_positives: 3.0000 - false_negatives: 8.0000\n",
      "Epoch 00007: loss improved from 0.14092 to 0.12155, saving model to /home/rajarshi/Documents/DATASETS/Health/COVID/covid-chestxray-dataset-master/DATASET/2/best_model.h5\n",
      "29/29 [==============================] - 4s 129ms/step - loss: 0.1215 - accuracy: 0.9618 - precision: 0.9784 - recall: 0.9444 - true_positives: 136.0000 - true_negatives: 141.0000 - false_positives: 3.0000 - false_negatives: 8.0000 - val_loss: 0.6844 - val_accuracy: 0.7500 - val_precision: 0.6667 - val_recall: 1.0000 - val_true_positives: 18.0000 - val_true_negatives: 9.0000 - val_false_positives: 9.0000 - val_false_negatives: 0.0000e+00\n",
      "\n",
      "Epoch 00008: LearningRateScheduler reducing learning rate to 0.0001.\n",
      "Epoch 8/100\n",
      "29/29 [==============================] - ETA: 0s - loss: 0.0550 - accuracy: 0.9792 - precision: 0.9929 - recall: 0.9653 - true_positives: 139.0000 - true_negatives: 143.0000 - false_positives: 1.0000 - false_negatives: 5.0000\n",
      "Epoch 00008: loss improved from 0.12155 to 0.05502, saving model to /home/rajarshi/Documents/DATASETS/Health/COVID/covid-chestxray-dataset-master/DATASET/2/best_model.h5\n",
      "29/29 [==============================] - 4s 125ms/step - loss: 0.0550 - accuracy: 0.9792 - precision: 0.9929 - recall: 0.9653 - true_positives: 139.0000 - true_negatives: 143.0000 - false_positives: 1.0000 - false_negatives: 5.0000 - val_loss: 1.0278 - val_accuracy: 0.6944 - val_precision: 0.6207 - val_recall: 1.0000 - val_true_positives: 18.0000 - val_true_negatives: 7.0000 - val_false_positives: 11.0000 - val_false_negatives: 0.0000e+00\n",
      "\n",
      "Epoch 00009: LearningRateScheduler reducing learning rate to 0.0001.\n",
      "Epoch 9/100\n",
      "29/29 [==============================] - ETA: 0s - loss: 0.0639 - accuracy: 0.9826 - precision: 0.9860 - recall: 0.9792 - true_positives: 141.0000 - true_negatives: 142.0000 - false_positives: 2.0000 - false_negatives: 3.0000\n",
      "Epoch 00009: loss did not improve from 0.05502\n",
      "29/29 [==============================] - 2s 57ms/step - loss: 0.0639 - accuracy: 0.9826 - precision: 0.9860 - recall: 0.9792 - true_positives: 141.0000 - true_negatives: 142.0000 - false_positives: 2.0000 - false_negatives: 3.0000 - val_loss: 0.9492 - val_accuracy: 0.8333 - val_precision: 0.7500 - val_recall: 1.0000 - val_true_positives: 18.0000 - val_true_negatives: 12.0000 - val_false_positives: 6.0000 - val_false_negatives: 0.0000e+00\n"
     ]
    },
    {
     "name": "stdout",
     "output_type": "stream",
     "text": [
      "\n",
      "Epoch 00010: LearningRateScheduler reducing learning rate to 0.0001.\n",
      "Epoch 10/100\n",
      "29/29 [==============================] - ETA: 0s - loss: 0.0514 - accuracy: 0.9792 - precision: 0.9792 - recall: 0.9792 - true_positives: 141.0000 - true_negatives: 141.0000 - false_positives: 3.0000 - false_negatives: 3.0000\n",
      "Epoch 00010: loss improved from 0.05502 to 0.05141, saving model to /home/rajarshi/Documents/DATASETS/Health/COVID/covid-chestxray-dataset-master/DATASET/2/best_model.h5\n",
      "29/29 [==============================] - 4s 127ms/step - loss: 0.0514 - accuracy: 0.9792 - precision: 0.9792 - recall: 0.9792 - true_positives: 141.0000 - true_negatives: 141.0000 - false_positives: 3.0000 - false_negatives: 3.0000 - val_loss: 0.6805 - val_accuracy: 0.7500 - val_precision: 0.6667 - val_recall: 1.0000 - val_true_positives: 18.0000 - val_true_negatives: 9.0000 - val_false_positives: 9.0000 - val_false_negatives: 0.0000e+00\n",
      "\n",
      "Epoch 00011: LearningRateScheduler reducing learning rate to 1e-05.\n",
      "Epoch 11/100\n",
      "29/29 [==============================] - ETA: 0s - loss: 0.0202 - accuracy: 0.9931 - precision: 0.9863 - recall: 1.0000 - true_positives: 144.0000 - true_negatives: 142.0000 - false_positives: 2.0000 - false_negatives: 0.0000e+00\n",
      "Epoch 00011: loss improved from 0.05141 to 0.02025, saving model to /home/rajarshi/Documents/DATASETS/Health/COVID/covid-chestxray-dataset-master/DATASET/2/best_model.h5\n",
      "29/29 [==============================] - 2s 72ms/step - loss: 0.0202 - accuracy: 0.9931 - precision: 0.9863 - recall: 1.0000 - true_positives: 144.0000 - true_negatives: 142.0000 - false_positives: 2.0000 - false_negatives: 0.0000e+00 - val_loss: 0.3973 - val_accuracy: 0.8889 - val_precision: 0.8182 - val_recall: 1.0000 - val_true_positives: 18.0000 - val_true_negatives: 14.0000 - val_false_positives: 4.0000 - val_false_negatives: 0.0000e+00\n",
      "\n",
      "Epoch 00012: LearningRateScheduler reducing learning rate to 1e-05.\n",
      "Epoch 12/100\n",
      "29/29 [==============================] - ETA: 0s - loss: 0.0102 - accuracy: 1.0000 - precision: 1.0000 - recall: 1.0000 - true_positives: 144.0000 - true_negatives: 144.0000 - false_positives: 0.0000e+00 - false_negatives: 0.0000e+00\n",
      "Epoch 00012: loss improved from 0.02025 to 0.01020, saving model to /home/rajarshi/Documents/DATASETS/Health/COVID/covid-chestxray-dataset-master/DATASET/2/best_model.h5\n",
      "29/29 [==============================] - 2s 71ms/step - loss: 0.0102 - accuracy: 1.0000 - precision: 1.0000 - recall: 1.0000 - true_positives: 144.0000 - true_negatives: 144.0000 - false_positives: 0.0000e+00 - false_negatives: 0.0000e+00 - val_loss: 0.4419 - val_accuracy: 0.8889 - val_precision: 0.8182 - val_recall: 1.0000 - val_true_positives: 18.0000 - val_true_negatives: 14.0000 - val_false_positives: 4.0000 - val_false_negatives: 0.0000e+00\n",
      "\n",
      "Epoch 00013: LearningRateScheduler reducing learning rate to 1e-05.\n",
      "Epoch 13/100\n",
      "29/29 [==============================] - ETA: 0s - loss: 0.0167 - accuracy: 0.9965 - precision: 0.9931 - recall: 1.0000 - true_positives: 144.0000 - true_negatives: 143.0000 - false_positives: 1.0000 - false_negatives: 0.0000e+00\n",
      "Epoch 00013: loss did not improve from 0.01020\n",
      "29/29 [==============================] - 2s 53ms/step - loss: 0.0167 - accuracy: 0.9965 - precision: 0.9931 - recall: 1.0000 - true_positives: 144.0000 - true_negatives: 143.0000 - false_positives: 1.0000 - false_negatives: 0.0000e+00 - val_loss: 0.4126 - val_accuracy: 0.8889 - val_precision: 0.8182 - val_recall: 1.0000 - val_true_positives: 18.0000 - val_true_negatives: 14.0000 - val_false_positives: 4.0000 - val_false_negatives: 0.0000e+00\n",
      "\n",
      "Epoch 00014: LearningRateScheduler reducing learning rate to 1e-05.\n",
      "Epoch 14/100\n",
      "29/29 [==============================] - ETA: 0s - loss: 0.0068 - accuracy: 1.0000 - precision: 1.0000 - recall: 1.0000 - true_positives: 144.0000 - true_negatives: 144.0000 - false_positives: 0.0000e+00 - false_negatives: 0.0000e+00\n",
      "Epoch 00014: loss improved from 0.01020 to 0.00684, saving model to /home/rajarshi/Documents/DATASETS/Health/COVID/covid-chestxray-dataset-master/DATASET/2/best_model.h5\n",
      "29/29 [==============================] - 2s 71ms/step - loss: 0.0068 - accuracy: 1.0000 - precision: 1.0000 - recall: 1.0000 - true_positives: 144.0000 - true_negatives: 144.0000 - false_positives: 0.0000e+00 - false_negatives: 0.0000e+00 - val_loss: 0.4986 - val_accuracy: 0.8889 - val_precision: 0.8182 - val_recall: 1.0000 - val_true_positives: 18.0000 - val_true_negatives: 14.0000 - val_false_positives: 4.0000 - val_false_negatives: 0.0000e+00\n",
      "\n",
      "Epoch 00015: LearningRateScheduler reducing learning rate to 1e-05.\n",
      "Epoch 15/100\n",
      "29/29 [==============================] - ETA: 0s - loss: 0.0139 - accuracy: 0.9965 - precision: 1.0000 - recall: 0.9931 - true_positives: 143.0000 - true_negatives: 144.0000 - false_positives: 0.0000e+00 - false_negatives: 1.0000\n",
      "Epoch 00015: loss did not improve from 0.00684\n",
      "29/29 [==============================] - 2s 53ms/step - loss: 0.0139 - accuracy: 0.9965 - precision: 1.0000 - recall: 0.9931 - true_positives: 143.0000 - true_negatives: 144.0000 - false_positives: 0.0000e+00 - false_negatives: 1.0000 - val_loss: 0.5191 - val_accuracy: 0.8889 - val_precision: 0.8182 - val_recall: 1.0000 - val_true_positives: 18.0000 - val_true_negatives: 14.0000 - val_false_positives: 4.0000 - val_false_negatives: 0.0000e+00\n",
      "\n",
      "Epoch 00016: LearningRateScheduler reducing learning rate to 1e-05.\n",
      "Epoch 16/100\n",
      "28/29 [===========================>..] - ETA: 0s - loss: 0.0073 - accuracy: 1.0000 - precision: 1.0000 - recall: 1.0000 - true_positives: 141.0000 - true_negatives: 137.0000 - false_positives: 0.0000e+00 - false_negatives: 0.0000e+00\n",
      "Epoch 00016: loss did not improve from 0.00684\n",
      "29/29 [==============================] - 2s 54ms/step - loss: 0.0073 - accuracy: 1.0000 - precision: 1.0000 - recall: 1.0000 - true_positives: 144.0000 - true_negatives: 144.0000 - false_positives: 0.0000e+00 - false_negatives: 0.0000e+00 - val_loss: 0.5658 - val_accuracy: 0.8333 - val_precision: 0.7500 - val_recall: 1.0000 - val_true_positives: 18.0000 - val_true_negatives: 12.0000 - val_false_positives: 6.0000 - val_false_negatives: 0.0000e+00\n",
      "\n",
      "Epoch 00017: LearningRateScheduler reducing learning rate to 1e-05.\n",
      "Epoch 17/100\n",
      "29/29 [==============================] - ETA: 0s - loss: 0.0049 - accuracy: 1.0000 - precision: 1.0000 - recall: 1.0000 - true_positives: 144.0000 - true_negatives: 144.0000 - false_positives: 0.0000e+00 - false_negatives: 0.0000e+00\n",
      "Epoch 00017: loss improved from 0.00684 to 0.00487, saving model to /home/rajarshi/Documents/DATASETS/Health/COVID/covid-chestxray-dataset-master/DATASET/2/best_model.h5\n",
      "29/29 [==============================] - 5s 170ms/step - loss: 0.0049 - accuracy: 1.0000 - precision: 1.0000 - recall: 1.0000 - true_positives: 144.0000 - true_negatives: 144.0000 - false_positives: 0.0000e+00 - false_negatives: 0.0000e+00 - val_loss: 0.5732 - val_accuracy: 0.8333 - val_precision: 0.7500 - val_recall: 1.0000 - val_true_positives: 18.0000 - val_true_negatives: 12.0000 - val_false_positives: 6.0000 - val_false_negatives: 0.0000e+00\n",
      "\n",
      "Epoch 00018: LearningRateScheduler reducing learning rate to 1e-05.\n",
      "Epoch 18/100\n",
      "28/29 [===========================>..] - ETA: 0s - loss: 0.0046 - accuracy: 1.0000 - precision: 1.0000 - recall: 1.0000 - true_positives: 139.0000 - true_negatives: 139.0000 - false_positives: 0.0000e+00 - false_negatives: 0.0000e+00\n",
      "Epoch 00018: loss improved from 0.00487 to 0.00452, saving model to /home/rajarshi/Documents/DATASETS/Health/COVID/covid-chestxray-dataset-master/DATASET/2/best_model.h5\n",
      "29/29 [==============================] - 2s 72ms/step - loss: 0.0045 - accuracy: 1.0000 - precision: 1.0000 - recall: 1.0000 - true_positives: 144.0000 - true_negatives: 144.0000 - false_positives: 0.0000e+00 - false_negatives: 0.0000e+00 - val_loss: 0.6069 - val_accuracy: 0.7500 - val_precision: 0.6667 - val_recall: 1.0000 - val_true_positives: 18.0000 - val_true_negatives: 9.0000 - val_false_positives: 9.0000 - val_false_negatives: 0.0000e+00\n",
      "\n",
      "Epoch 00019: LearningRateScheduler reducing learning rate to 1e-05.\n",
      "Epoch 19/100\n"
     ]
    },
    {
     "name": "stdout",
     "output_type": "stream",
     "text": [
      "29/29 [==============================] - ETA: 0s - loss: 0.0045 - accuracy: 1.0000 - precision: 1.0000 - recall: 1.0000 - true_positives: 144.0000 - true_negatives: 144.0000 - false_positives: 0.0000e+00 - false_negatives: 0.0000e+00\n",
      "Epoch 00019: loss improved from 0.00452 to 0.00451, saving model to /home/rajarshi/Documents/DATASETS/Health/COVID/covid-chestxray-dataset-master/DATASET/2/best_model.h5\n",
      "29/29 [==============================] - 2s 71ms/step - loss: 0.0045 - accuracy: 1.0000 - precision: 1.0000 - recall: 1.0000 - true_positives: 144.0000 - true_negatives: 144.0000 - false_positives: 0.0000e+00 - false_negatives: 0.0000e+00 - val_loss: 0.6035 - val_accuracy: 0.8333 - val_precision: 0.7500 - val_recall: 1.0000 - val_true_positives: 18.0000 - val_true_negatives: 12.0000 - val_false_positives: 6.0000 - val_false_negatives: 0.0000e+00\n",
      "\n",
      "Epoch 00020: LearningRateScheduler reducing learning rate to 1e-05.\n",
      "Epoch 20/100\n",
      "29/29 [==============================] - ETA: 0s - loss: 0.0054 - accuracy: 1.0000 - precision: 1.0000 - recall: 1.0000 - true_positives: 144.0000 - true_negatives: 144.0000 - false_positives: 0.0000e+00 - false_negatives: 0.0000e+00\n",
      "Epoch 00020: loss did not improve from 0.00451\n",
      "29/29 [==============================] - 2s 53ms/step - loss: 0.0054 - accuracy: 1.0000 - precision: 1.0000 - recall: 1.0000 - true_positives: 144.0000 - true_negatives: 144.0000 - false_positives: 0.0000e+00 - false_negatives: 0.0000e+00 - val_loss: 0.6058 - val_accuracy: 0.8333 - val_precision: 0.7500 - val_recall: 1.0000 - val_true_positives: 18.0000 - val_true_negatives: 12.0000 - val_false_positives: 6.0000 - val_false_negatives: 0.0000e+00\n",
      "\n",
      "Epoch 00021: LearningRateScheduler reducing learning rate to 1.0000000000000002e-06.\n",
      "Epoch 21/100\n",
      "28/29 [===========================>..] - ETA: 0s - loss: 0.0058 - accuracy: 1.0000 - precision: 1.0000 - recall: 1.0000 - true_positives: 139.0000 - true_negatives: 139.0000 - false_positives: 0.0000e+00 - false_negatives: 0.0000e+00\n",
      "Epoch 00021: loss did not improve from 0.00451\n",
      "29/29 [==============================] - 2s 52ms/step - loss: 0.0058 - accuracy: 1.0000 - precision: 1.0000 - recall: 1.0000 - true_positives: 144.0000 - true_negatives: 144.0000 - false_positives: 0.0000e+00 - false_negatives: 0.0000e+00 - val_loss: 0.5981 - val_accuracy: 0.8333 - val_precision: 0.7500 - val_recall: 1.0000 - val_true_positives: 18.0000 - val_true_negatives: 12.0000 - val_false_positives: 6.0000 - val_false_negatives: 0.0000e+00\n",
      "\n",
      "Epoch 00022: LearningRateScheduler reducing learning rate to 1.0000000000000002e-06.\n",
      "Epoch 22/100\n",
      "28/29 [===========================>..] - ETA: 0s - loss: 0.0025 - accuracy: 1.0000 - precision: 1.0000 - recall: 1.0000 - true_positives: 139.0000 - true_negatives: 139.0000 - false_positives: 0.0000e+00 - false_negatives: 0.0000e+00\n",
      "Epoch 00022: loss improved from 0.00451 to 0.00277, saving model to /home/rajarshi/Documents/DATASETS/Health/COVID/covid-chestxray-dataset-master/DATASET/2/best_model.h5\n",
      "29/29 [==============================] - 4s 122ms/step - loss: 0.0028 - accuracy: 1.0000 - precision: 1.0000 - recall: 1.0000 - true_positives: 144.0000 - true_negatives: 144.0000 - false_positives: 0.0000e+00 - false_negatives: 0.0000e+00 - val_loss: 0.5917 - val_accuracy: 0.8889 - val_precision: 0.8182 - val_recall: 1.0000 - val_true_positives: 18.0000 - val_true_negatives: 14.0000 - val_false_positives: 4.0000 - val_false_negatives: 0.0000e+00\n",
      "\n",
      "Epoch 00023: LearningRateScheduler reducing learning rate to 1.0000000000000002e-06.\n",
      "Epoch 23/100\n",
      "29/29 [==============================] - ETA: 0s - loss: 0.0033 - accuracy: 1.0000 - precision: 1.0000 - recall: 1.0000 - true_positives: 144.0000 - true_negatives: 144.0000 - false_positives: 0.0000e+00 - false_negatives: 0.0000e+00\n",
      "Epoch 00023: loss did not improve from 0.00277\n",
      "29/29 [==============================] - 2s 54ms/step - loss: 0.0033 - accuracy: 1.0000 - precision: 1.0000 - recall: 1.0000 - true_positives: 144.0000 - true_negatives: 144.0000 - false_positives: 0.0000e+00 - false_negatives: 0.0000e+00 - val_loss: 0.5984 - val_accuracy: 0.8333 - val_precision: 0.7500 - val_recall: 1.0000 - val_true_positives: 18.0000 - val_true_negatives: 12.0000 - val_false_positives: 6.0000 - val_false_negatives: 0.0000e+00\n",
      "\n",
      "Epoch 00024: LearningRateScheduler reducing learning rate to 1.0000000000000002e-06.\n",
      "Epoch 24/100\n",
      "29/29 [==============================] - ETA: 0s - loss: 0.0051 - accuracy: 1.0000 - precision: 1.0000 - recall: 1.0000 - true_positives: 144.0000 - true_negatives: 144.0000 - false_positives: 0.0000e+00 - false_negatives: 0.0000e+00\n",
      "Epoch 00024: loss did not improve from 0.00277\n",
      "29/29 [==============================] - 2s 54ms/step - loss: 0.0051 - accuracy: 1.0000 - precision: 1.0000 - recall: 1.0000 - true_positives: 144.0000 - true_negatives: 144.0000 - false_positives: 0.0000e+00 - false_negatives: 0.0000e+00 - val_loss: 0.5989 - val_accuracy: 0.8333 - val_precision: 0.7500 - val_recall: 1.0000 - val_true_positives: 18.0000 - val_true_negatives: 12.0000 - val_false_positives: 6.0000 - val_false_negatives: 0.0000e+00\n",
      "\n",
      "Epoch 00025: LearningRateScheduler reducing learning rate to 1.0000000000000002e-06.\n",
      "Epoch 25/100\n",
      "28/29 [===========================>..] - ETA: 0s - loss: 0.0035 - accuracy: 1.0000 - precision: 1.0000 - recall: 1.0000 - true_positives: 136.0000 - true_negatives: 142.0000 - false_positives: 0.0000e+00 - false_negatives: 0.0000e+00\n",
      "Epoch 00025: loss did not improve from 0.00277\n",
      "29/29 [==============================] - 2s 52ms/step - loss: 0.0036 - accuracy: 1.0000 - precision: 1.0000 - recall: 1.0000 - true_positives: 144.0000 - true_negatives: 144.0000 - false_positives: 0.0000e+00 - false_negatives: 0.0000e+00 - val_loss: 0.6205 - val_accuracy: 0.8333 - val_precision: 0.7500 - val_recall: 1.0000 - val_true_positives: 18.0000 - val_true_negatives: 12.0000 - val_false_positives: 6.0000 - val_false_negatives: 0.0000e+00\n",
      "\n",
      "Epoch 00026: LearningRateScheduler reducing learning rate to 1.0000000000000002e-06.\n",
      "Epoch 26/100\n",
      "29/29 [==============================] - ETA: 0s - loss: 0.0023 - accuracy: 1.0000 - precision: 1.0000 - recall: 1.0000 - true_positives: 144.0000 - true_negatives: 144.0000 - false_positives: 0.0000e+00 - false_negatives: 0.0000e+00\n",
      "Epoch 00026: loss improved from 0.00277 to 0.00230, saving model to /home/rajarshi/Documents/DATASETS/Health/COVID/covid-chestxray-dataset-master/DATASET/2/best_model.h5\n",
      "29/29 [==============================] - 2s 72ms/step - loss: 0.0023 - accuracy: 1.0000 - precision: 1.0000 - recall: 1.0000 - true_positives: 144.0000 - true_negatives: 144.0000 - false_positives: 0.0000e+00 - false_negatives: 0.0000e+00 - val_loss: 0.6220 - val_accuracy: 0.8333 - val_precision: 0.7500 - val_recall: 1.0000 - val_true_positives: 18.0000 - val_true_negatives: 12.0000 - val_false_positives: 6.0000 - val_false_negatives: 0.0000e+00\n",
      "\n",
      "Epoch 00027: LearningRateScheduler reducing learning rate to 1.0000000000000002e-06.\n",
      "Epoch 27/100\n",
      "29/29 [==============================] - ETA: 0s - loss: 0.0026 - accuracy: 1.0000 - precision: 1.0000 - recall: 1.0000 - true_positives: 144.0000 - true_negatives: 144.0000 - false_positives: 0.0000e+00 - false_negatives: 0.0000e+00\n",
      "Epoch 00027: loss did not improve from 0.00230\n",
      "29/29 [==============================] - 2s 54ms/step - loss: 0.0026 - accuracy: 1.0000 - precision: 1.0000 - recall: 1.0000 - true_positives: 144.0000 - true_negatives: 144.0000 - false_positives: 0.0000e+00 - false_negatives: 0.0000e+00 - val_loss: 0.6203 - val_accuracy: 0.8333 - val_precision: 0.7500 - val_recall: 1.0000 - val_true_positives: 18.0000 - val_true_negatives: 12.0000 - val_false_positives: 6.0000 - val_false_negatives: 0.0000e+00\n",
      "\n",
      "Epoch 00028: LearningRateScheduler reducing learning rate to 1.0000000000000002e-06.\n",
      "Epoch 28/100\n",
      "28/29 [===========================>..] - ETA: 0s - loss: 0.0026 - accuracy: 1.0000 - precision: 1.0000 - recall: 1.0000 - true_positives: 140.0000 - true_negatives: 138.0000 - false_positives: 0.0000e+00 - false_negatives: 0.0000e+00\n",
      "Epoch 00028: loss did not improve from 0.00230\n",
      "29/29 [==============================] - 1s 52ms/step - loss: 0.0026 - accuracy: 1.0000 - precision: 1.0000 - recall: 1.0000 - true_positives: 144.0000 - true_negatives: 144.0000 - false_positives: 0.0000e+00 - false_negatives: 0.0000e+00 - val_loss: 0.6151 - val_accuracy: 0.8333 - val_precision: 0.7500 - val_recall: 1.0000 - val_true_positives: 18.0000 - val_true_negatives: 12.0000 - val_false_positives: 6.0000 - val_false_negatives: 0.0000e+00\n"
     ]
    },
    {
     "name": "stdout",
     "output_type": "stream",
     "text": [
      "\n",
      "Epoch 00029: LearningRateScheduler reducing learning rate to 1.0000000000000002e-06.\n",
      "Epoch 29/100\n",
      "28/29 [===========================>..] - ETA: 0s - loss: 0.0032 - accuracy: 1.0000 - precision: 1.0000 - recall: 1.0000 - true_positives: 140.0000 - true_negatives: 140.0000 - false_positives: 0.0000e+00 - false_negatives: 0.0000e+00\n",
      "Epoch 00029: loss did not improve from 0.00230\n",
      "29/29 [==============================] - 2s 52ms/step - loss: 0.0031 - accuracy: 1.0000 - precision: 1.0000 - recall: 1.0000 - true_positives: 144.0000 - true_negatives: 144.0000 - false_positives: 0.0000e+00 - false_negatives: 0.0000e+00 - val_loss: 0.6226 - val_accuracy: 0.8333 - val_precision: 0.7500 - val_recall: 1.0000 - val_true_positives: 18.0000 - val_true_negatives: 12.0000 - val_false_positives: 6.0000 - val_false_negatives: 0.0000e+00\n",
      "\n",
      "Epoch 00030: LearningRateScheduler reducing learning rate to 1.0000000000000002e-06.\n",
      "Epoch 30/100\n",
      "28/29 [===========================>..] - ETA: 0s - loss: 0.0033 - accuracy: 1.0000 - precision: 1.0000 - recall: 1.0000 - true_positives: 142.0000 - true_negatives: 136.0000 - false_positives: 0.0000e+00 - false_negatives: 0.0000e+00\n",
      "Epoch 00030: loss did not improve from 0.00230\n",
      "29/29 [==============================] - 2s 52ms/step - loss: 0.0032 - accuracy: 1.0000 - precision: 1.0000 - recall: 1.0000 - true_positives: 144.0000 - true_negatives: 144.0000 - false_positives: 0.0000e+00 - false_negatives: 0.0000e+00 - val_loss: 0.6439 - val_accuracy: 0.8333 - val_precision: 0.7500 - val_recall: 1.0000 - val_true_positives: 18.0000 - val_true_negatives: 12.0000 - val_false_positives: 6.0000 - val_false_negatives: 0.0000e+00\n",
      "\n",
      "Epoch 00031: LearningRateScheduler reducing learning rate to 1.0000000000000002e-07.\n",
      "Epoch 31/100\n",
      "29/29 [==============================] - ETA: 0s - loss: 0.0040 - accuracy: 1.0000 - precision: 1.0000 - recall: 1.0000 - true_positives: 144.0000 - true_negatives: 144.0000 - false_positives: 0.0000e+00 - false_negatives: 0.0000e+00\n",
      "Epoch 00031: loss did not improve from 0.00230\n",
      "29/29 [==============================] - 1s 52ms/step - loss: 0.0040 - accuracy: 1.0000 - precision: 1.0000 - recall: 1.0000 - true_positives: 144.0000 - true_negatives: 144.0000 - false_positives: 0.0000e+00 - false_negatives: 0.0000e+00 - val_loss: 0.6418 - val_accuracy: 0.8333 - val_precision: 0.7500 - val_recall: 1.0000 - val_true_positives: 18.0000 - val_true_negatives: 12.0000 - val_false_positives: 6.0000 - val_false_negatives: 0.0000e+00\n",
      "\n",
      "Epoch 00032: LearningRateScheduler reducing learning rate to 1.0000000000000002e-07.\n",
      "Epoch 32/100\n",
      "28/29 [===========================>..] - ETA: 0s - loss: 0.0090 - accuracy: 0.9964 - precision: 1.0000 - recall: 0.9929 - true_positives: 139.0000 - true_negatives: 138.0000 - false_positives: 0.0000e+00 - false_negatives: 1.0000Restoring model weights from the end of the best epoch.\n",
      "\n",
      "Epoch 00032: loss did not improve from 0.00230\n",
      "29/29 [==============================] - 2s 52ms/step - loss: 0.0088 - accuracy: 0.9965 - precision: 1.0000 - recall: 0.9931 - true_positives: 143.0000 - true_negatives: 144.0000 - false_positives: 0.0000e+00 - false_negatives: 1.0000 - val_loss: 0.6431 - val_accuracy: 0.8333 - val_precision: 0.7500 - val_recall: 1.0000 - val_true_positives: 18.0000 - val_true_negatives: 12.0000 - val_false_positives: 6.0000 - val_false_negatives: 0.0000e+00\n",
      "Epoch 00032: early stopping\n",
      "29/29 [==============================] - 1s 18ms/step - loss: 0.0016 - accuracy: 1.0000 - precision: 1.0000 - recall: 1.0000 - true_positives: 144.0000 - true_negatives: 144.0000 - false_positives: 0.0000e+00 - false_negatives: 0.0000e+00\n",
      "4/4 [==============================] - 0s 12ms/step - loss: 0.5917 - accuracy: 0.8889 - precision: 0.8182 - recall: 1.0000 - true_positives: 18.0000 - true_negatives: 14.0000 - false_positives: 4.0000 - false_negatives: 0.0000e+00\n",
      "4/4 [==============================] - 0s 14ms/step - loss: 0.1826 - accuracy: 0.9722 - precision: 0.9474 - recall: 1.0000 - true_positives: 18.0000 - true_negatives: 17.0000 - false_positives: 1.0000 - false_negatives: 0.0000e+00\n"
     ]
    }
   ],
   "source": [
    "with tf.device('/GPU:0'):\n",
    "    start = time.time()\n",
    "    history = model.fit_generator(train_generator,\n",
    "                                        epochs = epoch,\n",
    "                                        verbose = 1,\n",
    "                                        callbacks = callback,\n",
    "                                        validation_data = validation_generator,\n",
    "                                        shuffle=True)\n",
    "\n",
    "    end = time.time()\n",
    "    duration = end-start\n",
    "\n",
    "train_score = model.evaluate(train_generator)\n",
    "val_score = model.evaluate(validation_generator)\n",
    "test_score = model.evaluate(test_generator)"
   ]
  },
  {
   "cell_type": "code",
   "execution_count": 17,
   "metadata": {},
   "outputs": [
    {
     "name": "stdout",
     "output_type": "stream",
     "text": [
      "Execution Time: 79.94296860694885 seconds\n"
     ]
    }
   ],
   "source": [
    "print(\"Execution Time: {} seconds\".format(duration))"
   ]
  },
  {
   "cell_type": "code",
   "execution_count": 18,
   "metadata": {},
   "outputs": [
    {
     "name": "stderr",
     "output_type": "stream",
     "text": [
      "The PostScript backend does not support transparency; partially transparent artists will be rendered opaque.\n",
      "The PostScript backend does not support transparency; partially transparent artists will be rendered opaque.\n"
     ]
    },
    {
     "data": {
      "image/png": "[encoded data removed]",
      "text/plain": [
       "<Figure size 432x288 with 1 Axes>"
      ]
     },
     "metadata": {
      "needs_background": "light"
     },
     "output_type": "display_data"
    },
    {
     "name": "stderr",
     "output_type": "stream",
     "text": [
      "The PostScript backend does not support transparency; partially transparent artists will be rendered opaque.\n",
      "The PostScript backend does not support transparency; partially transparent artists will be rendered opaque.\n"
     ]
    },
    {
     "data": {
      "image/png": "[encoded data removed]",
      "text/plain": [
       "<Figure size 432x288 with 1 Axes>"
      ]
     },
     "metadata": {
      "needs_background": "light"
     },
     "output_type": "display_data"
    }
   ],
   "source": [
    "acc=history.history['accuracy']\n",
    "val_acc=history.history['val_accuracy']\n",
    "loss=history.history['loss']\n",
    "val_loss=history.history['val_loss']\n",
    "epochs=range(len(acc))\n",
    "\n",
    "plt.plot(epochs, acc, 'r', label='Training Accuracy')\n",
    "plt.plot(epochs, val_acc, 'b', label='Validation Accuracy')\n",
    "plt.xlabel(\"Epochs\")\n",
    "plt.ylabel(\"Accuracy\")\n",
    "plt.title('Training and validation accuracy vs Epochs')\n",
    "plt.legend()\n",
    "accuracy_fig_name = \"accuracy.eps\"\n",
    "plt.savefig(os.path.join(char, accuracy_fig_name))\n",
    "plt.show()\n",
    "\n",
    "\n",
    "plt.plot(epochs, loss, 'r', label=\"Training Loss\")\n",
    "plt.plot(epochs, val_loss, 'b', label=\"Validation Loss\")\n",
    "plt.xlabel(\"Epochs\")\n",
    "plt.ylabel(\"Loss\")\n",
    "plt.title('Training and validation loss vs Epochs')\n",
    "plt.legend()\n",
    "loss_fig_name = \"loss.eps\"\n",
    "\n",
    "plt.savefig(os.path.join(char, loss_fig_name))\n",
    "plt.show()"
   ]
  },
  {
   "cell_type": "code",
   "execution_count": 19,
   "metadata": {},
   "outputs": [
    {
     "name": "stdout",
     "output_type": "stream",
     "text": [
      "The training accuracy is: 100.0 %\n",
      "The validation accuracy is: 88.88888955116272 %\n",
      "The test accuracy is: 97.22222089767456 %\n"
     ]
    }
   ],
   "source": [
    "training_accuracy = train_score[1]*100\n",
    "validation_accuracy = val_score[1]*100\n",
    "test_accuracy = test_score[1]*100\n",
    "\n",
    "print(\"The training accuracy is: \" + str(training_accuracy) + ' %')\n",
    "print(\"The validation accuracy is: \" + str(validation_accuracy) + ' %')\n",
    "print(\"The test accuracy is: \" + str(test_accuracy) + ' %')"
   ]
  },
  {
   "cell_type": "code",
   "execution_count": 20,
   "metadata": {},
   "outputs": [],
   "source": [
    "test_accuracy = test_score[1]*100\n",
    "test_precision = test_score[2]*100\n",
    "test_recall = test_score[3]*100\n",
    "tp = int(test_score[4])\n",
    "tn = int(test_score[5])\n",
    "fp = int(test_score[6])\n",
    "fn = int(test_score[7])\n",
    "\n",
    "f1 = 2*((test_precision*test_recall)/(test_precision+test_recall))\n",
    "sensitivity = (tp/(tp+fn))*100\n",
    "specificity = (tn/(tn+fp))*100"
   ]
  },
  {
   "cell_type": "code",
   "execution_count": 21,
   "metadata": {},
   "outputs": [
    {
     "name": "stdout",
     "output_type": "stream",
     "text": [
      "Test Accuracy: 97.22222089767456\n",
      "Test Precision: 94.73684430122375\n",
      "Test Recall: 100.0\n",
      "True Positive: 18\n",
      "Test Negetive: 17\n",
      "False Positive: 1\n",
      "False Negetive: 0\n",
      "Sensitivity: 100.0\n",
      "Specificity: 94.44444444444444\n"
     ]
    }
   ],
   "source": [
    "print(\"Test Accuracy: {}\".format(test_accuracy))\n",
    "print(\"Test Precision: {}\".format(test_precision))\n",
    "print(\"Test Recall: {}\".format(test_recall))\n",
    "print(\"True Positive: {}\".format(tp))\n",
    "print(\"Test Negetive: {}\".format(tn))\n",
    "print(\"False Positive: {}\".format(fp))\n",
    "print(\"False Negetive: {}\".format(fn))\n",
    "print(\"Sensitivity: {}\".format(sensitivity))\n",
    "print(\"Specificity: {}\".format(specificity))"
   ]
  },
  {
   "cell_type": "code",
   "execution_count": 22,
   "metadata": {},
   "outputs": [],
   "source": [
    "test_class_list = []\n",
    "for test_name in os.listdir(TESTING_DIR):\n",
    "    test = os.path.join(TESTING_DIR,test_name)\n",
    "    test_class_list.append(test)\n",
    "test_class_list.sort()"
   ]
  },
  {
   "cell_type": "code",
   "execution_count": 23,
   "metadata": {},
   "outputs": [],
   "source": [
    "def max_pred(pred):\n",
    "    pred_categorical = keras.utils.to_categorical(pred)\n",
    "    if 1 > 2:\n",
    "        pred_max = np.argmax(pred)\n",
    "    else:\n",
    "        pred_max = np.argmax(pred_categorical)\n",
    "    return pred_max"
   ]
  },
  {
   "cell_type": "code",
   "execution_count": 24,
   "metadata": {},
   "outputs": [],
   "source": [
    "y_true = test_generator.classes\n",
    "labels = validation_generator.class_indices"
   ]
  },
  {
   "cell_type": "code",
   "execution_count": 25,
   "metadata": {},
   "outputs": [
    {
     "data": {
      "text/plain": [
       "{'covid': 0, 'normal': 1}"
      ]
     },
     "execution_count": 25,
     "metadata": {},
     "output_type": "execute_result"
    }
   ],
   "source": [
    "labels"
   ]
  },
  {
   "cell_type": "code",
   "execution_count": 26,
   "metadata": {},
   "outputs": [
    {
     "data": {
      "text/plain": [
       "array([0, 0, 0, 0, 0, 0, 0, 0, 0, 0, 0, 0, 0, 0, 0, 0, 0, 0, 1, 1, 1, 1,\n",
       "       1, 1, 1, 1, 1, 1, 1, 1, 1, 1, 1, 1, 1, 1], dtype=int32)"
      ]
     },
     "execution_count": 26,
     "metadata": {},
     "output_type": "execute_result"
    }
   ],
   "source": [
    "y_true"
   ]
  },
  {
   "cell_type": "code",
   "execution_count": 27,
   "metadata": {},
   "outputs": [
    {
     "data": {
      "text/plain": [
       "['/home/rajarshi/Documents/DATASETS/Health/COVID/covid-chestxray-dataset-master/DATASET/classify train/testing/covid',\n",
       " '/home/rajarshi/Documents/DATASETS/Health/COVID/covid-chestxray-dataset-master/DATASET/classify train/testing/normal']"
      ]
     },
     "execution_count": 27,
     "metadata": {},
     "output_type": "execute_result"
    }
   ],
   "source": [
    "test_class_list"
   ]
  },
  {
   "cell_type": "code",
   "execution_count": 28,
   "metadata": {},
   "outputs": [
    {
     "name": "stdout",
     "output_type": "stream",
     "text": [
      "Calculating CLASSIFICATION REPORT..........:\n",
      "              precision    recall  f1-score   support\n",
      "\n",
      "       covid       1.00      0.94      0.97        18\n",
      "      normal       0.95      1.00      0.97        18\n",
      "\n",
      "    accuracy                           0.97        36\n",
      "   macro avg       0.97      0.97      0.97        36\n",
      "weighted avg       0.97      0.97      0.97        36\n",
      "\n",
      "\n",
      "Calculating SENSITIVITY & SPECIFICITY..........:\n",
      "sensitivity = 0.9444\n",
      "specificity = 1.0000\n"
     ]
    }
   ],
   "source": [
    "from sklearn.metrics import classification_report\n",
    "from sklearn.metrics import confusion_matrix\n",
    "\n",
    "\n",
    "y_pred = []\n",
    "for i in range(len(os.listdir(TRAINING_DIR))):\n",
    "    for filename in os.listdir(test_class_list[i]):\n",
    "        file = os.path.join(test_class_list[i], filename)\n",
    "        img = image.load_img(file, target_size=(224,224))\n",
    "        x = image.img_to_array(img)\n",
    "        x = np.expand_dims(x, axis=0)\n",
    "\n",
    "        images = np.vstack([x])\n",
    "\n",
    "        pred = model.predict(images, batch_size = batch_size)\n",
    "        pred_max = max_pred(pred)\n",
    "        \n",
    "        y_pred.append(pred_max)\n",
    " \n",
    "print(\"Calculating CLASSIFICATION REPORT..........:\")\n",
    "classification_report = classification_report(y_true, y_pred, target_names=labels)\n",
    "print(classification_report)\n",
    "\n",
    "print(\"\\nCalculating SENSITIVITY & SPECIFICITY..........:\")\n",
    "cm = confusion_matrix(y_true, y_pred)\n",
    "total = sum(sum(cm))\n",
    "sensitivity = cm[0, 0] / (cm[0, 0] + cm[0, 1])\n",
    "specificity = cm[1, 1] / (cm[1, 0] + cm[1, 1])\n",
    "\n",
    "print(\"sensitivity = {:.4f}\".format(sensitivity))\n",
    "print(\"specificity = {:.4f}\".format(specificity))"
   ]
  },
  {
   "cell_type": "code",
   "execution_count": 29,
   "metadata": {},
   "outputs": [
    {
     "name": "stdout",
     "output_type": "stream",
     "text": [
      "Please read the text file named readme.txt for detailed information of the model.\n"
     ]
    }
   ],
   "source": [
    "from contextlib import redirect_stdout\n",
    "\n",
    "readme_name_text = \"readme.txt\"\n",
    "print(\"Please read the text file named \" + readme_name_text + \" for detailed information of the model.\")\n",
    "\n",
    "completeName_txt = os.path.join(char, readme_name_text) \n",
    "\n",
    "readme = open(completeName_txt, \"w\")\n",
    "\n",
    "if len(os.listdir(TRAINING_DIR)) > 2:\n",
    "    readme.write(\"This is a MULTICLASS CLASSIFICATION\")\n",
    "else:\n",
    "    readme.write(\"This is a BINARY CLASSIFICATION\")\n",
    "\n",
    "\n",
    "readme.write(\"\\n\\n--HYPERPARAMETERS--\\n\")\n",
    "readme.write(str(augmentation))\n",
    "readme.write(\"\\nInitial Learning Rate = \" + str(learning_rate))\n",
    "readme.write(\"\\nNo. of epochs = \" + str(len(acc)))\n",
    "readme.write(\"\\nBatch Size = \" + str(batch_size))\n",
    "\n",
    "\n",
    "readme.write(\"\\n\\n--MODEL-PARAMETERS--\")\n",
    "readme.write(\"\\nActivation Function = relu\")\n",
    "readme.write(\"\\nDropout = \" + str(int(dropout*100)) + \"%\")\n",
    "readme.write(\"\\nActivation function of the output layer = \" + str(output_activation))\n",
    "readme.write(\"\\nCost function of the model = \" + str(losses))\n",
    "readme.write(\"\\nOptimizer = \" + str(optimizer) + \"\\n\\n\")\n",
    "\n",
    "\n",
    "readme.write(\"Trained on a Custom Prebuilt Model\\n\")\n",
    "readme.write(\"Number of Conv layer = \" + str(conv_layer))\n",
    "readme.write(\"\\nFilter size = \" + str(conv_size)+ \"*\" + str(conv_size) + \"\\n\\n\")\n",
    "with redirect_stdout(readme):\n",
    "    model.summary()\n",
    "        \n",
    "    \n",
    "readme.write(\"\\n\\n--MODEL-PERFORMANCE--\")\n",
    "readme.write(\"\\nTest Accuracy = \" + str(test_accuracy) + \" %\")\n",
    "readme.write(\"\\nTest Precision = \" + str(test_precision) + \" %\")\n",
    "readme.write(\"\\nTest Recall = \" + str(test_recall) + \" %\")\n",
    "readme.write(\"\\nTrue Positive = \" + str(tp))\n",
    "readme.write(\"\\nTrue Negetive = \" + str(tn))\n",
    "readme.write(\"\\nFalse Positive = \" + str(fp))\n",
    "readme.write(\"\\nFalse Negetive = \" + str(fn))\n",
    "readme.write(\"\\nSensitivity = \" + str(sensitivity))\n",
    "readme.write(\"\\nSpecificity = \" + str(specificity) + \" \\n\\n\\n\")\n",
    "\n",
    "\n",
    "readme.write(\"\\n\\n--MODEL-CHARACTERISTICS--\")\n",
    "readme.write(\"\\nacc = \" + str(acc))\n",
    "readme.write(\"\\n\\nval_acc = \" + str(val_acc))\n",
    "readme.write(\"\\n\\nloss = \" + str(loss))\n",
    "readme.write(\"\\n\\nval_loss = \" + str(val_loss))\n",
    "\n",
    "\n",
    "readme.write(\"\\n\\n--Classification Report--\\n\")\n",
    "readme.write(classification_report)\n",
    "\n",
    "readme.write(\"\\nSensitivity = \" + str(int(sensitivity*100)) + \" %\")\n",
    "readme.write(\"\\nSpecificity = \" + str(int(specificity*100)) + \" %\")\n",
    "\n",
    "\n",
    "readme.write(\"\\nExecution Time: {} seconds\".format(duration))\n",
    "\n",
    "readme.write(\"\\n\\nCreated using Self-Regulated Image Classifier using Convolution Neural Network\")\n",
    "\n",
    "readme.close()"
   ]
  },
  {
   "cell_type": "code",
   "execution_count": null,
   "metadata": {},
   "outputs": [],
   "source": []
  }
 ],
 "metadata": {
  "kernelspec": {
   "display_name": "Python 3",
   "language": "python",
   "name": "python3"
  },
  "language_info": {
   "codemirror_mode": {
    "name": "ipython",
    "version": 3
   },
   "file_extension": ".py",
   "mimetype": "text/x-python",
   "name": "python",
   "nbconvert_exporter": "python",
   "pygments_lexer": "ipython3",
   "version": "3.8.2"
  }
 },
 "nbformat": 4,
 "nbformat_minor": 4
}
