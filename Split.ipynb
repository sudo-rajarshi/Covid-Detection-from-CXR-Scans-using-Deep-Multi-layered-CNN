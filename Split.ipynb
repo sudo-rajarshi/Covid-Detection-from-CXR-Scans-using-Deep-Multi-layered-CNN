{
 "cells": [
  {
   "cell_type": "code",
   "execution_count": 1,
   "metadata": {},
   "outputs": [],
   "source": [
    "import os\n",
    "import operator\n",
    "import cv2\n",
    "import shutil\n",
    "import random\n",
    "import os\n",
    "from shutil import copyfile\n"
   ]
  },
  {
   "cell_type": "code",
   "execution_count": 2,
   "metadata": {},
   "outputs": [
    {
     "name": "stdout",
     "output_type": "stream",
     "text": [
      "Enter the address of the source folder: /home/rajarshi/Documents/DATASETS/Health/COVID/covid-chestxray-dataset-master/DATASET\n",
      "Enter the name of the source folder where all the classes are stored: train\n",
      "Enter the address of the test images which will be used for testing after training: /home/rajarshi/Documents/DATASETS/Health/COVID/covid-chestxray-dataset-master/DATASET/test\n"
     ]
    }
   ],
   "source": [
    "source_address = str(input(\"Enter the address of the source folder: \"))\n",
    "source_folder = str(input(\"Enter the name of the source folder where all the classes are stored: \"))\n",
    "test_address = str(input(\"Enter the address of the test images which will be used for testing after training: \"))"
   ]
  },
  {
   "cell_type": "code",
   "execution_count": 3,
   "metadata": {},
   "outputs": [],
   "source": [
    "source_folder_dir = os.path.join(source_address, source_folder)"
   ]
  },
  {
   "cell_type": "code",
   "execution_count": 4,
   "metadata": {},
   "outputs": [
    {
     "name": "stdout",
     "output_type": "stream",
     "text": [
      "Total no. of files: 360\n"
     ]
    }
   ],
   "source": [
    "source_data = sum([len(files) for r, d, files in os.walk(source_folder_dir)])\n",
    "print(\"Total no. of files: {}\".format(source_data))"
   ]
  },
  {
   "cell_type": "code",
   "execution_count": 5,
   "metadata": {},
   "outputs": [],
   "source": [
    "class_no = len(os.listdir(source_folder_dir))\n",
    "\n",
    "classes = []\n",
    "source_folder_dir_class = []\n",
    "image_list = []\n",
    "resized_images = []\n",
    "\n",
    "files = {}\n",
    "for i in range(0,class_no):\n",
    "    i += 1\n",
    "    classes = os.listdir(source_folder_dir)\n",
    "\n",
    "    source_folder_dir_class.append(os.path.join(source_folder_dir, classes[i-1]))\n",
    "    \n",
    "    for filename in os.listdir(source_folder_dir_class[i-1]):\n",
    "        file = os.path.join(source_folder_dir_class[i-1], filename)\n",
    "        extension = \".\" + str(filename.split(\".\")[-1])\n",
    "        #print(\"The format of the images: \" + str(extension))\n",
    "        x = os.path.getsize(file) \n",
    "        files.update({file:x})\n",
    "    \n",
    "    sorted_files = sorted(files.items(), key=operator.itemgetter(1))\n",
    "    img_src = sorted_files[0][0]\n",
    "\n",
    "    image = cv2.imread(img_src)\n",
    "    #print(image.shape)\n",
    "    height = image.shape[0]\n",
    "    width = image.shape[1]"
   ]
  },
  {
   "cell_type": "code",
   "execution_count": 6,
   "metadata": {},
   "outputs": [
    {
     "name": "stdout",
     "output_type": "stream",
     "text": [
      "The size(height*width) of the smallest image in this dataset is 324*331\n"
     ]
    }
   ],
   "source": [
    "print(\"The size(height*width) of the smallest image in this dataset is {}*{}\".format(height,width))"
   ]
  },
  {
   "cell_type": "code",
   "execution_count": 7,
   "metadata": {},
   "outputs": [],
   "source": [
    "directory = os.path.join(source_address, 'classify ' + str(source_folder) )\n",
    "train_directory = os.path.join(directory, 'training')\n",
    "validation_directory = os.path.join(directory, 'validation')\n",
    "test_directory = os.path.join(directory, 'testing')\n",
    "\n",
    "# If the generated target folder is not created yet\n",
    "if not os.path.exists(directory):\n",
    "    # Create the target folder\n",
    "    os.mkdir(directory)\n",
    "# If the generated target folder is already created\n",
    "else:\n",
    "    # Overwrite the target folder\n",
    "    shutil.rmtree(directory)\n",
    "    os.mkdir(directory)\n",
    "\n",
    "os.mkdir(train_directory)\n",
    "os.mkdir(validation_directory)\n",
    "os.mkdir(test_directory)"
   ]
  },
  {
   "cell_type": "code",
   "execution_count": 8,
   "metadata": {},
   "outputs": [],
   "source": [
    "def split_data(SOURCE, TRAINING, VALIDATION, TESTING, VALIDATION_SPLIT_SIZE, TEST_SPLIT_SIZE):\n",
    "    files = []\n",
    "    for filename in os.listdir(SOURCE):\n",
    "        file = os.path.join(SOURCE, filename)\n",
    "        if os.path.getsize(file) > 0:\n",
    "            files.append(filename)\n",
    "        else:\n",
    "            print(filename + \" is zero length, so ignoring!\")\n",
    "\n",
    "    # Splitting the Data    \n",
    "    validation_length = int(len(files) * VALIDATION_SPLIT_SIZE)\n",
    "    testing_length = int(len(files) * TEST_SPLIT_SIZE)\n",
    "    training_length = len(files) - (validation_length + testing_length)\n",
    "    \n",
    "    shuffled_set = random.sample(files, len(files))\n",
    "    \n",
    "    training_set = shuffled_set[0:training_length]\n",
    "    validation_set = shuffled_set[(training_length):(training_length+validation_length)]\n",
    "    testing_set = shuffled_set[(training_length+validation_length):(training_length+validation_length+testing_length)]\n",
    "\n",
    "    # Copying the Data\n",
    "    for filename in training_set:\n",
    "        this_file = os.path.join(SOURCE, filename)\n",
    "        destination = os.path.join(TRAINING ,filename)\n",
    "        copyfile(this_file, destination)\n",
    "        \n",
    "    for filename in validation_set:\n",
    "        this_file = os.path.join(SOURCE, filename)\n",
    "        destination = os.path.join(VALIDATION, filename)\n",
    "        copyfile(this_file, destination)\n",
    "\n",
    "    for filename in testing_set:\n",
    "        this_file = os.path.join(SOURCE, filename)\n",
    "        destination = os.path.join(TESTING, filename)\n",
    "        copyfile(this_file, destination)"
   ]
  },
  {
   "cell_type": "code",
   "execution_count": 9,
   "metadata": {},
   "outputs": [
    {
     "name": "stdout",
     "output_type": "stream",
     "text": [
      "Using how much data(%) you want to validate? 10\n",
      "Using how much data(%) you want to test? 10\n",
      "\n",
      "Splitted the RAW data from /home/rajarshi/Documents/DATASETS/Health/COVID/covid-chestxray-dataset-master/DATASET/train/covid & storing it into 3 folders at:\n",
      "/home/rajarshi/Documents/DATASETS/Health/COVID/covid-chestxray-dataset-master/DATASET/classify train/training/covid\n",
      "/home/rajarshi/Documents/DATASETS/Health/COVID/covid-chestxray-dataset-master/DATASET/classify train/validation/covid\n",
      "/home/rajarshi/Documents/DATASETS/Health/COVID/covid-chestxray-dataset-master/DATASET/classify train/testing/covid\n",
      "\n",
      "Splitted the RAW data from /home/rajarshi/Documents/DATASETS/Health/COVID/covid-chestxray-dataset-master/DATASET/train/normal & storing it into 3 folders at:\n",
      "/home/rajarshi/Documents/DATASETS/Health/COVID/covid-chestxray-dataset-master/DATASET/classify train/training/normal\n",
      "/home/rajarshi/Documents/DATASETS/Health/COVID/covid-chestxray-dataset-master/DATASET/classify train/validation/normal\n",
      "/home/rajarshi/Documents/DATASETS/Health/COVID/covid-chestxray-dataset-master/DATASET/classify train/testing/normal\n"
     ]
    }
   ],
   "source": [
    "VALIDATION_SPLIT_SIZE = int(input(\"Using how much data(%) you want to validate? \"))\n",
    "VALIDATION_SPLIT_SIZE = VALIDATION_SPLIT_SIZE/100\n",
    "\n",
    "TEST_SPLIT_SIZE = int(input(\"Using how much data(%) you want to test? \"))\n",
    "TEST_SPLIT_SIZE = TEST_SPLIT_SIZE/100\n",
    "\n",
    "train_class = []\n",
    "validation_class = []\n",
    "test_class = []\n",
    "\n",
    "for i in range(0,class_no):\n",
    "    i += 1\n",
    "\n",
    "    train_class.append(os.path.join(train_directory, classes[i-1]))\n",
    "    validation_class.append(os.path.join(validation_directory, classes[i-1] ))\n",
    "    test_class.append(os.path.join(test_directory, classes[i-1]))\n",
    "\n",
    "    os.mkdir(train_class[i-1])\n",
    "    os.mkdir(validation_class[i-1])\n",
    "    os.mkdir(test_class[i-1])\n",
    "\n",
    "    split_data(source_folder_dir_class[i-1], train_class[i-1], validation_class[i-1], test_class[i-1], VALIDATION_SPLIT_SIZE, TEST_SPLIT_SIZE)\n",
    "\n",
    "    print(\"\\nSplitted the RAW data from \" + str(source_folder_dir_class[i-1]) + \" & storing it into 3 folders at:\\n\" + str(train_class[i-1]) + '\\n' + str(validation_class[i-1]) + '\\n' + str(test_class[i-1]))\n"
   ]
  },
  {
   "cell_type": "code",
   "execution_count": null,
   "metadata": {},
   "outputs": [],
   "source": []
  }
 ],
 "metadata": {
  "kernelspec": {
   "display_name": "Python 3",
   "language": "python",
   "name": "python3"
  },
  "language_info": {
   "codemirror_mode": {
    "name": "ipython",
    "version": 3
   },
   "file_extension": ".py",
   "mimetype": "text/x-python",
   "name": "python",
   "nbconvert_exporter": "python",
   "pygments_lexer": "ipython3",
   "version": "3.8.2"
  }
 },
 "nbformat": 4,
 "nbformat_minor": 4
}
